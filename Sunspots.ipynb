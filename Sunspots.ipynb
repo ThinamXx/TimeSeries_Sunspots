{
  "nbformat": 4,
  "nbformat_minor": 0,
  "metadata": {
    "colab": {
      "name": "Sunspots.ipynb",
      "provenance": [],
      "collapsed_sections": []
    },
    "kernelspec": {
      "name": "python3",
      "display_name": "Python 3"
    },
    "accelerator": "GPU"
  },
  "cells": [
    {
      "cell_type": "markdown",
      "metadata": {
        "id": "FAF_fFUOxm8e",
        "colab_type": "text"
      },
      "source": [
        "### **Initialization**\n",
        "* I use these 3 lines of code on top of my each notebook because it won't cause any trouble while reloading or reworking on the Project or Problem. And the third line of code helps to make visualization within the Notebook."
      ]
    },
    {
      "cell_type": "code",
      "metadata": {
        "id": "lWmrEwd6xFCU",
        "colab_type": "code",
        "colab": {}
      },
      "source": [
        "# Initialization\n",
        "# I use these 3 lines of code on top of my each Notebooks\n",
        "%reload_ext autoreload\n",
        "%autoreload 2\n",
        "%matplotlib inline"
      ],
      "execution_count": 1,
      "outputs": []
    },
    {
      "cell_type": "markdown",
      "metadata": {
        "id": "6u64slqMyFD-",
        "colab_type": "text"
      },
      "source": [
        "**Downloading the Dependencies**\n",
        "* I prefer to download all necessary Libraries and Dependencies on one particular cell which mainly focus on Libraries and Dependencies."
      ]
    },
    {
      "cell_type": "code",
      "metadata": {
        "id": "FRd0U3yuyBwt",
        "colab_type": "code",
        "colab": {}
      },
      "source": [
        "# Downloading all necessary Libraries and Dependencies\n",
        "import numpy as np\n",
        "import matplotlib.pyplot as plt\n",
        "import matplotlib.image as mpimg\n",
        "import tensorflow as tf\n",
        "import csv"
      ],
      "execution_count": 2,
      "outputs": []
    },
    {
      "cell_type": "markdown",
      "metadata": {
        "id": "lYwRKKL4zPq4",
        "colab_type": "text"
      },
      "source": [
        "**Getting the Data**\n",
        "* I am using Google Colab for this Project, so the act of reading the Data might be different from different platforms. I have used the link below to download the full data of [Sunspots](https://www.kaggle.com/robervalt/sunspots). You can manually download the Data from [Kaggle](https://www.kaggle.com/robervalt/sunspots) as well."
      ]
    },
    {
      "cell_type": "code",
      "metadata": {
        "id": "hdyxfSVHzKpi",
        "colab_type": "code",
        "colab": {
          "base_uri": "https://localhost:8080/",
          "height": 204
        },
        "outputId": "a90b6339-883c-483e-cad1-210657369d77"
      },
      "source": [
        "# Loading the Data \n",
        "# Using Google Colab for loading the data\n",
        "# Uncomment the line below\n",
        "#!wget --no-check-certificate \\\n",
        "    https://storage.googleapis.com/laurencemoroney-blog.appspot.com/Sunspots.csv \\\n",
        "    -O /tmp/sunspots.csv"
      ],
      "execution_count": 3,
      "outputs": [
        {
          "output_type": "stream",
          "text": [
            "--2020-08-18 08:02:04--  https://storage.googleapis.com/laurencemoroney-blog.appspot.com/Sunspots.csv\n",
            "Resolving storage.googleapis.com (storage.googleapis.com)... 173.194.198.128, 173.194.74.128, 172.217.212.128, ...\n",
            "Connecting to storage.googleapis.com (storage.googleapis.com)|173.194.198.128|:443... connected.\n",
            "HTTP request sent, awaiting response... 200 OK\n",
            "Length: 70827 (69K) [application/octet-stream]\n",
            "Saving to: ‘/tmp/sunspots.csv’\n",
            "\n",
            "\r/tmp/sunspots.csv     0%[                    ]       0  --.-KB/s               \r/tmp/sunspots.csv   100%[===================>]  69.17K  --.-KB/s    in 0.001s  \n",
            "\n",
            "2020-08-18 08:02:04 (66.4 MB/s) - ‘/tmp/sunspots.csv’ saved [70827/70827]\n",
            "\n"
          ],
          "name": "stdout"
        }
      ]
    },
    {
      "cell_type": "markdown",
      "metadata": {
        "id": "W17oiL3u0xG4",
        "colab_type": "text"
      },
      "source": [
        "**Writing Functions**\n",
        "* All the functions required for this Project which can be written manually are defined in the cell below. For better convenience, it is kept in one single cell."
      ]
    },
    {
      "cell_type": "code",
      "metadata": {
        "id": "Z7FX5vwo0T6O",
        "colab_type": "code",
        "colab": {}
      },
      "source": [
        "# For plotting the series or data\n",
        "def plot_series(time, series, format=\"-\", start=0, end=None):\n",
        "  plt.plot(time[start:end], series[start:end], format)\n",
        "  plt.xlabel(\"Time\")\n",
        "  plt.ylabel(\"Value\")\n",
        "  plt.grid(True)\n",
        "\n",
        "# For preparing the dataset\n",
        "def windowed_dataset(series, window_size, batch_size, shuffle_buffer):\n",
        "  series = tf.expand_dims(series, axis=-1)\n",
        "  ds = tf.data.Dataset.from_tensor_slices(series)\n",
        "  ds = ds.window(window_size+1, shift=1, drop_remainder=True)\n",
        "  ds = ds.flat_map(lambda w: w.batch(window_size+1))\n",
        "  ds = ds.shuffle(shuffle_buffer)\n",
        "  ds = ds.map(lambda w: (w[:-1], w[1:]))\n",
        "  return ds.batch(batch_size).prefetch(1)\n",
        "\n",
        "# For forecasting the accuracy of the model\n",
        "def model_forecast(model, series, window_size):\n",
        "  ds = tf.data.Dataset.from_tensor_slices(series)\n",
        "  ds = ds.window(window_size, shift=1, drop_remainder=True)\n",
        "  ds = ds.flat_map(lambda w: w.batch(window_size))\n",
        "  ds = ds.batch(32).prefetch(1)\n",
        "  forecast = model.predict(ds)\n",
        "  return forecast"
      ],
      "execution_count": 4,
      "outputs": []
    },
    {
      "cell_type": "markdown",
      "metadata": {
        "id": "-XeX0uJDXdj0",
        "colab_type": "text"
      },
      "source": [
        "**Processing the Data**\n",
        "* Opening the csv file and accessing the time and average sunspots from data."
      ]
    },
    {
      "cell_type": "code",
      "metadata": {
        "id": "bTu0QY22XPvr",
        "colab_type": "code",
        "colab": {}
      },
      "source": [
        "# Processing and Preparing the Data\n",
        "time_step = []\n",
        "sunspots = []\n",
        "\n",
        "with open(\"/tmp/sunspots.csv\") as csvfile:\n",
        "  reader = csv.reader(csvfile, delimiter=\",\")\n",
        "  \n",
        "  # First line is the header, so skipping.\n",
        "  next(reader)\n",
        "\n",
        "  for row in reader:\n",
        "    time_step.append(int(row[0]))\n",
        "    sunspots.append(float(row[2]))\n",
        "\n",
        "# Changing into array using numpy\n",
        "series = np.array(sunspots)\n",
        "time = np.array(time_step)"
      ],
      "execution_count": 5,
      "outputs": []
    },
    {
      "cell_type": "markdown",
      "metadata": {
        "id": "d8RxSME_ZZiS",
        "colab_type": "text"
      },
      "source": [
        "**Looking at the Data**"
      ]
    },
    {
      "cell_type": "code",
      "metadata": {
        "id": "xwx6YuI8ZXWf",
        "colab_type": "code",
        "colab": {
          "base_uri": "https://localhost:8080/",
          "height": 388
        },
        "outputId": "05d29548-11a1-49e5-d16e-db27e863b60a"
      },
      "source": [
        "# Looking at the Data\n",
        "plt.figure(figsize=(10, 6))\n",
        "plot_series(time, series)"
      ],
      "execution_count": 6,
      "outputs": [
        {
          "output_type": "display_data",
          "data": {
            "image/png": "[encoded data removed]",
            "text/plain": [
              "<Figure size 720x432 with 1 Axes>"
            ]
          },
          "metadata": {
            "tags": [],
            "needs_background": "light"
          }
        }
      ]
    },
    {
      "cell_type": "markdown",
      "metadata": {
        "id": "FW0KMr2RaCzA",
        "colab_type": "text"
      },
      "source": [
        "### **Preparing the Model**\n"
      ]
    },
    {
      "cell_type": "markdown",
      "metadata": {
        "id": "975Q9d3caQOg",
        "colab_type": "text"
      },
      "source": [
        "**Adjusting the Dependencies**"
      ]
    },
    {
      "cell_type": "code",
      "metadata": {
        "id": "MrcQsrhTZvxX",
        "colab_type": "code",
        "colab": {}
      },
      "source": [
        "# Adjusting the parameters & preparing the Model\n",
        "split = 3000\n",
        "window_size= 30\n",
        "batch_size = 32\n",
        "shuffle_buffer_zone = 1000\n",
        "\n",
        "# Training data\n",
        "train_time = time[:split]\n",
        "X_train = series[:split]\n",
        "# Validation data\n",
        "valid_time = time[split:]\n",
        "X_valid = series[split:]"
      ],
      "execution_count": 7,
      "outputs": []
    },
    {
      "cell_type": "markdown",
      "metadata": {
        "id": "EgIa33uAbv0T",
        "colab_type": "text"
      },
      "source": [
        "### **Neural Network**\n",
        "* Preparing the Deep Neural Network."
      ]
    },
    {
      "cell_type": "code",
      "metadata": {
        "id": "jU1Y30rQbmH_",
        "colab_type": "code",
        "colab": {
          "base_uri": "https://localhost:8080/",
          "height": 51
        },
        "outputId": "2aca9897-9562-4f9a-a449-2f255079867b"
      },
      "source": [
        "# Clearing the depending variables if there are any.\n",
        "tf.keras.backend.clear_session()\n",
        "tf.random.set_seed(42)\n",
        "np.random.seed(42)\n",
        "window_size = 64\n",
        "batch_size = 256\n",
        "\n",
        "# Preparing the data with function defined above\n",
        "train = windowed_dataset(X_train, window_size, batch_size, shuffle_buffer_zone)\n",
        "print(train);\n",
        "X_train.shape"
      ],
      "execution_count": 8,
      "outputs": [
        {
          "output_type": "stream",
          "text": [
            "<PrefetchDataset shapes: ((None, None, 1), (None, None, 1)), types: (tf.float64, tf.float64)>\n"
          ],
          "name": "stdout"
        },
        {
          "output_type": "execute_result",
          "data": {
            "text/plain": [
              "(3000,)"
            ]
          },
          "metadata": {
            "tags": []
          },
          "execution_count": 8
        }
      ]
    },
    {
      "cell_type": "code",
      "metadata": {
        "id": "Seo9FasHdJ0r",
        "colab_type": "code",
        "colab": {
          "base_uri": "https://localhost:8080/",
          "height": 1000
        },
        "outputId": "e01c4b63-ddaf-437e-b0be-edf00567f7de"
      },
      "source": [
        "# Preparing the model (DNN)\n",
        "model = tf.keras.models.Sequential([\n",
        "                                    tf.keras.layers.Conv1D(filters=64, kernel_size=5,\n",
        "                                                           padding=\"causal\",\n",
        "                                                           activation=\"relu\",\n",
        "                                                           input_shape=[None, 1]),\n",
        "                                    tf.keras.layers.LSTM(64, return_sequences=True),\n",
        "                                    tf.keras.layers.LSTM(128, return_sequences=True),\n",
        "                                    tf.keras.layers.Dense(30, activation=\"relu\"),\n",
        "                                    tf.keras.layers.Dense(10, activation=\"relu\"),\n",
        "                                    tf.keras.layers.Dense(1),\n",
        "                                    tf.keras.layers.Lambda(lambda x: x * 400)\n",
        "\n",
        "])\n",
        "\n",
        "# Preparing the Dependencies\n",
        "lr_schedule = tf.keras.callbacks.LearningRateScheduler(\n",
        "    lambda epoch: 1e-07 * 10**(epoch/20) \n",
        ")\n",
        "\n",
        "optimizer = tf.keras.optimizers.SGD(lr=1e-07, momentum=0.9)\n",
        "\n",
        "# Compiling the Model\n",
        "model.compile(loss = tf.keras.losses.Huber(),\n",
        "              optimizer=optimizer,\n",
        "              metrics=[\"mae\"])\n",
        "\n",
        "# Fitting the Model\n",
        "history = model.fit(train, epochs=50, callbacks=[lr_schedule])"
      ],
      "execution_count": 10,
      "outputs": [
        {
          "output_type": "stream",
          "text": [
            "Epoch 1/50\n",
            "12/12 [==============================] - 1s 43ms/step - loss: 114.6601 - mae: 115.1594\n",
            "Epoch 2/50\n",
            "12/12 [==============================] - 1s 51ms/step - loss: 88.4148 - mae: 88.9138\n",
            "Epoch 3/50\n",
            "12/12 [==============================] - 1s 52ms/step - loss: 65.4476 - mae: 65.9457\n",
            "Epoch 4/50\n",
            "12/12 [==============================] - 1s 54ms/step - loss: 52.1421 - mae: 52.6398\n",
            "Epoch 5/50\n",
            "12/12 [==============================] - 1s 51ms/step - loss: 47.1493 - mae: 47.6469\n",
            "Epoch 6/50\n",
            "12/12 [==============================] - 1s 52ms/step - loss: 41.1711 - mae: 41.6683\n",
            "Epoch 7/50\n",
            "12/12 [==============================] - 1s 55ms/step - loss: 37.6903 - mae: 38.1867\n",
            "Epoch 8/50\n",
            "12/12 [==============================] - 1s 55ms/step - loss: 35.8653 - mae: 36.3611\n",
            "Epoch 9/50\n",
            "12/12 [==============================] - 1s 54ms/step - loss: 34.6610 - mae: 35.1569\n",
            "Epoch 10/50\n",
            "12/12 [==============================] - 1s 54ms/step - loss: 33.3148 - mae: 33.8106\n",
            "Epoch 11/50\n",
            "12/12 [==============================] - 1s 55ms/step - loss: 31.7200 - mae: 32.2156\n",
            "Epoch 12/50\n",
            "12/12 [==============================] - 1s 54ms/step - loss: 30.5290 - mae: 31.0244\n",
            "Epoch 13/50\n",
            "12/12 [==============================] - 1s 53ms/step - loss: 29.6297 - mae: 30.1248\n",
            "Epoch 14/50\n",
            "12/12 [==============================] - 1s 52ms/step - loss: 28.8093 - mae: 29.3044\n",
            "Epoch 15/50\n",
            "12/12 [==============================] - 1s 51ms/step - loss: 28.3164 - mae: 28.8115\n",
            "Epoch 16/50\n",
            "12/12 [==============================] - 1s 53ms/step - loss: 27.8791 - mae: 28.3740\n",
            "Epoch 17/50\n",
            "12/12 [==============================] - 1s 53ms/step - loss: 27.4266 - mae: 27.9217\n",
            "Epoch 18/50\n",
            "12/12 [==============================] - 1s 54ms/step - loss: 27.1879 - mae: 27.6828\n",
            "Epoch 19/50\n",
            "12/12 [==============================] - 1s 55ms/step - loss: 26.9197 - mae: 27.4146\n",
            "Epoch 20/50\n",
            "12/12 [==============================] - 1s 54ms/step - loss: 26.5916 - mae: 27.0865\n",
            "Epoch 21/50\n",
            "12/12 [==============================] - 1s 53ms/step - loss: 26.1745 - mae: 26.6692\n",
            "Epoch 22/50\n",
            "12/12 [==============================] - 1s 52ms/step - loss: 25.5039 - mae: 25.9985\n",
            "Epoch 23/50\n",
            "12/12 [==============================] - 1s 54ms/step - loss: 24.8209 - mae: 25.3153\n",
            "Epoch 24/50\n",
            "12/12 [==============================] - 1s 54ms/step - loss: 24.2728 - mae: 24.7670\n",
            "Epoch 25/50\n",
            "12/12 [==============================] - 1s 51ms/step - loss: 23.7950 - mae: 24.2894\n",
            "Epoch 26/50\n",
            "12/12 [==============================] - 1s 53ms/step - loss: 23.2451 - mae: 23.7392\n",
            "Epoch 27/50\n",
            "12/12 [==============================] - 1s 53ms/step - loss: 22.7430 - mae: 23.2370\n",
            "Epoch 28/50\n",
            "12/12 [==============================] - 1s 52ms/step - loss: 22.5701 - mae: 23.0640\n",
            "Epoch 29/50\n",
            "12/12 [==============================] - 1s 55ms/step - loss: 22.0950 - mae: 22.5888\n",
            "Epoch 30/50\n",
            "12/12 [==============================] - 1s 55ms/step - loss: 21.7574 - mae: 22.2513\n",
            "Epoch 31/50\n",
            "12/12 [==============================] - 1s 54ms/step - loss: 21.5981 - mae: 22.0920\n",
            "Epoch 32/50\n",
            "12/12 [==============================] - 1s 54ms/step - loss: 21.1354 - mae: 21.6290\n",
            "Epoch 33/50\n",
            "12/12 [==============================] - 1s 54ms/step - loss: 21.0858 - mae: 21.5796\n",
            "Epoch 34/50\n",
            "12/12 [==============================] - 1s 52ms/step - loss: 21.2019 - mae: 21.6957\n",
            "Epoch 35/50\n",
            "12/12 [==============================] - 1s 52ms/step - loss: 20.4070 - mae: 20.9004\n",
            "Epoch 36/50\n",
            "12/12 [==============================] - 1s 52ms/step - loss: 21.2192 - mae: 21.7131\n",
            "Epoch 37/50\n",
            "12/12 [==============================] - 1s 54ms/step - loss: 21.6070 - mae: 22.1010\n",
            "Epoch 38/50\n",
            "12/12 [==============================] - 1s 55ms/step - loss: 22.5703 - mae: 23.0647\n",
            "Epoch 39/50\n",
            "12/12 [==============================] - 1s 53ms/step - loss: 23.3869 - mae: 23.8818\n",
            "Epoch 40/50\n",
            "12/12 [==============================] - 1s 53ms/step - loss: 20.4223 - mae: 20.9157\n",
            "Epoch 41/50\n",
            "12/12 [==============================] - 1s 51ms/step - loss: 21.2503 - mae: 21.7447\n",
            "Epoch 42/50\n",
            "12/12 [==============================] - 1s 54ms/step - loss: 26.2599 - mae: 26.7554\n",
            "Epoch 43/50\n",
            "12/12 [==============================] - 1s 57ms/step - loss: 20.7832 - mae: 21.2769\n",
            "Epoch 44/50\n",
            "12/12 [==============================] - 1s 54ms/step - loss: 26.5653 - mae: 27.0608\n",
            "Epoch 45/50\n",
            "12/12 [==============================] - 1s 53ms/step - loss: 24.5015 - mae: 24.9969\n",
            "Epoch 46/50\n",
            "12/12 [==============================] - 1s 51ms/step - loss: 23.3723 - mae: 23.8672\n",
            "Epoch 47/50\n",
            "12/12 [==============================] - 1s 52ms/step - loss: 24.1570 - mae: 24.6523\n",
            "Epoch 48/50\n",
            "12/12 [==============================] - 1s 52ms/step - loss: 23.4082 - mae: 23.9028\n",
            "Epoch 49/50\n",
            "12/12 [==============================] - 1s 56ms/step - loss: 24.6520 - mae: 25.1474\n",
            "Epoch 50/50\n",
            "12/12 [==============================] - 1s 56ms/step - loss: 25.1348 - mae: 25.6300\n"
          ],
          "name": "stdout"
        }
      ]
    },
    {
      "cell_type": "markdown",
      "metadata": {
        "id": "eAEAnaINmdJr",
        "colab_type": "text"
      },
      "source": [
        "**Observing the Learning rate**"
      ]
    },
    {
      "cell_type": "code",
      "metadata": {
        "id": "nWymbc5whRei",
        "colab_type": "code",
        "colab": {
          "base_uri": "https://localhost:8080/",
          "height": 290
        },
        "outputId": "b466cce8-f898-46a9-8cb1-696d6756fe14"
      },
      "source": [
        "# Plotting the learning rate\n",
        "plt.semilogx(history.history[\"lr\"], history.history[\"loss\"])\n",
        "plt.axis([1e-08, 1e-04, 0, 60])"
      ],
      "execution_count": 12,
      "outputs": [
        {
          "output_type": "execute_result",
          "data": {
            "text/plain": [
              "(1e-08, 0.0001, 0.0, 60.0)"
            ]
          },
          "metadata": {
            "tags": []
          },
          "execution_count": 12
        },
        {
          "output_type": "display_data",
          "data": {
            "image/png": "[encoded data removed]",
            "text/plain": [
              "<Figure size 432x288 with 1 Axes>"
            ]
          },
          "metadata": {
            "tags": [],
            "needs_background": "light"
          }
        }
      ]
    },
    {
      "cell_type": "markdown",
      "metadata": {
        "id": "RpLtNvuOnYOu",
        "colab_type": "text"
      },
      "source": [
        "**Preparing the Deep Neural Network**"
      ]
    },
    {
      "cell_type": "code",
      "metadata": {
        "id": "n9myX23XnF_8",
        "colab_type": "code",
        "colab": {
          "base_uri": "https://localhost:8080/",
          "height": 1000
        },
        "outputId": "939094b5-548f-4a87-be60-97db526ef60a"
      },
      "source": [
        "# Clearing the depending variables if there are any.\n",
        "tf.keras.backend.clear_session()\n",
        "tf.random.set_seed(42)\n",
        "np.random.seed(42)\n",
        "window_size = 60\n",
        "batch_size = 100\n",
        "\n",
        "\n",
        "# Preparing the data with function defined above\n",
        "train = windowed_dataset(X_train, window_size, batch_size, shuffle_buffer_zone)\n",
        "\n",
        "# Preparing the model (DNN)\n",
        "model = tf.keras.models.Sequential([\n",
        "                                    tf.keras.layers.Conv1D(filters=64, kernel_size=5,\n",
        "                                                           padding=\"causal\",\n",
        "                                                           activation=\"relu\",\n",
        "                                                           input_shape=[None, 1]),\n",
        "                                    tf.keras.layers.LSTM(128, return_sequences=True),\n",
        "                                    tf.keras.layers.LSTM(128, return_sequences=True),\n",
        "                                    tf.keras.layers.Dense(30, activation=\"relu\"),\n",
        "                                    tf.keras.layers.Dense(10, activation=\"relu\"),\n",
        "                                    tf.keras.layers.Dense(1),\n",
        "                                    tf.keras.layers.Lambda(lambda x: x * 400)\n",
        "\n",
        "])\n",
        "\n",
        "# Preparing the Dependencies\n",
        "lr_schedule = tf.keras.callbacks.LearningRateScheduler(\n",
        "    lambda epoch: 1e-05 * 10**(epoch/400) \n",
        ")\n",
        "\n",
        "optimizer = tf.keras.optimizers.SGD(lr=1e-05, momentum=0.9)\n",
        "\n",
        "# Compiling the Model\n",
        "model.compile(loss = tf.keras.losses.Huber(),\n",
        "              optimizer=optimizer,\n",
        "              metrics=[\"mae\"])\n",
        "\n",
        "# Fitting the Model\n",
        "history = model.fit(train, epochs=50, callbacks=[lr_schedule])"
      ],
      "execution_count": 18,
      "outputs": [
        {
          "output_type": "stream",
          "text": [
            "Epoch 1/50\n",
            "30/30 [==============================] - 1s 43ms/step - loss: 39.2353 - mae: 39.7313\n",
            "Epoch 2/50\n",
            "30/30 [==============================] - 1s 38ms/step - loss: 20.9650 - mae: 21.4587\n",
            "Epoch 3/50\n",
            "30/30 [==============================] - 1s 38ms/step - loss: 19.2788 - mae: 19.7716\n",
            "Epoch 4/50\n",
            "30/30 [==============================] - 1s 38ms/step - loss: 18.6409 - mae: 19.1331\n",
            "Epoch 5/50\n",
            "30/30 [==============================] - 1s 35ms/step - loss: 18.0872 - mae: 18.5791\n",
            "Epoch 6/50\n",
            "30/30 [==============================] - 1s 34ms/step - loss: 17.7008 - mae: 18.1923\n",
            "Epoch 7/50\n",
            "30/30 [==============================] - 1s 35ms/step - loss: 17.6450 - mae: 18.1365\n",
            "Epoch 8/50\n",
            "30/30 [==============================] - 1s 34ms/step - loss: 17.5107 - mae: 18.0023\n",
            "Epoch 9/50\n",
            "30/30 [==============================] - 1s 34ms/step - loss: 17.8171 - mae: 18.3086\n",
            "Epoch 10/50\n",
            "30/30 [==============================] - 1s 34ms/step - loss: 17.3985 - mae: 17.8895\n",
            "Epoch 11/50\n",
            "30/30 [==============================] - 1s 34ms/step - loss: 17.2115 - mae: 17.7025\n",
            "Epoch 12/50\n",
            "30/30 [==============================] - 1s 34ms/step - loss: 17.3487 - mae: 17.8398\n",
            "Epoch 13/50\n",
            "30/30 [==============================] - 1s 34ms/step - loss: 17.0676 - mae: 17.5582\n",
            "Epoch 14/50\n",
            "30/30 [==============================] - 1s 34ms/step - loss: 17.2659 - mae: 17.7564\n",
            "Epoch 15/50\n",
            "30/30 [==============================] - 1s 34ms/step - loss: 17.3536 - mae: 17.8445\n",
            "Epoch 16/50\n",
            "30/30 [==============================] - 1s 34ms/step - loss: 17.0178 - mae: 17.5083\n",
            "Epoch 17/50\n",
            "30/30 [==============================] - 1s 34ms/step - loss: 16.9196 - mae: 17.4101\n",
            "Epoch 18/50\n",
            "30/30 [==============================] - 1s 34ms/step - loss: 16.8534 - mae: 17.3433\n",
            "Epoch 19/50\n",
            "30/30 [==============================] - 1s 34ms/step - loss: 17.1890 - mae: 17.6797\n",
            "Epoch 20/50\n",
            "30/30 [==============================] - 1s 34ms/step - loss: 17.1385 - mae: 17.6293\n",
            "Epoch 21/50\n",
            "30/30 [==============================] - 1s 34ms/step - loss: 16.8701 - mae: 17.3602\n",
            "Epoch 22/50\n",
            "30/30 [==============================] - 1s 34ms/step - loss: 16.7211 - mae: 17.2111\n",
            "Epoch 23/50\n",
            "30/30 [==============================] - 1s 35ms/step - loss: 16.7663 - mae: 17.2564\n",
            "Epoch 24/50\n",
            "30/30 [==============================] - 1s 34ms/step - loss: 16.7270 - mae: 17.2168\n",
            "Epoch 25/50\n",
            "30/30 [==============================] - 1s 34ms/step - loss: 16.7132 - mae: 17.2031\n",
            "Epoch 26/50\n",
            "30/30 [==============================] - 1s 33ms/step - loss: 16.6616 - mae: 17.1518\n",
            "Epoch 27/50\n",
            "30/30 [==============================] - 1s 34ms/step - loss: 16.8497 - mae: 17.3398\n",
            "Epoch 28/50\n",
            "30/30 [==============================] - 1s 33ms/step - loss: 16.7806 - mae: 17.2706\n",
            "Epoch 29/50\n",
            "30/30 [==============================] - 1s 34ms/step - loss: 16.5889 - mae: 17.0786\n",
            "Epoch 30/50\n",
            "30/30 [==============================] - 1s 34ms/step - loss: 16.7469 - mae: 17.2367\n",
            "Epoch 31/50\n",
            "30/30 [==============================] - 1s 33ms/step - loss: 16.6136 - mae: 17.1032\n",
            "Epoch 32/50\n",
            "30/30 [==============================] - 1s 33ms/step - loss: 16.4972 - mae: 16.9867\n",
            "Epoch 33/50\n",
            "30/30 [==============================] - 1s 34ms/step - loss: 16.5274 - mae: 17.0167\n",
            "Epoch 34/50\n",
            "30/30 [==============================] - 1s 34ms/step - loss: 16.5404 - mae: 17.0300\n",
            "Epoch 35/50\n",
            "30/30 [==============================] - 1s 33ms/step - loss: 16.4606 - mae: 16.9499\n",
            "Epoch 36/50\n",
            "30/30 [==============================] - 1s 34ms/step - loss: 16.7278 - mae: 17.2173\n",
            "Epoch 37/50\n",
            "30/30 [==============================] - 1s 34ms/step - loss: 16.4088 - mae: 16.8983\n",
            "Epoch 38/50\n",
            "30/30 [==============================] - 1s 34ms/step - loss: 16.5009 - mae: 16.9905\n",
            "Epoch 39/50\n",
            "30/30 [==============================] - 1s 34ms/step - loss: 16.3699 - mae: 16.8594\n",
            "Epoch 40/50\n",
            "30/30 [==============================] - 1s 34ms/step - loss: 17.8784 - mae: 18.3690\n",
            "Epoch 41/50\n",
            "30/30 [==============================] - 1s 34ms/step - loss: 17.7566 - mae: 18.2478\n",
            "Epoch 42/50\n",
            "30/30 [==============================] - 1s 34ms/step - loss: 16.8605 - mae: 17.3508\n",
            "Epoch 43/50\n",
            "30/30 [==============================] - 1s 34ms/step - loss: 16.3591 - mae: 16.8484\n",
            "Epoch 44/50\n",
            "30/30 [==============================] - 1s 34ms/step - loss: 16.6226 - mae: 17.1123\n",
            "Epoch 45/50\n",
            "30/30 [==============================] - 1s 33ms/step - loss: 16.4954 - mae: 16.9847\n",
            "Epoch 46/50\n",
            "30/30 [==============================] - 1s 34ms/step - loss: 16.3314 - mae: 16.8209\n",
            "Epoch 47/50\n",
            "30/30 [==============================] - 1s 34ms/step - loss: 16.3438 - mae: 16.8328\n",
            "Epoch 48/50\n",
            "30/30 [==============================] - 1s 34ms/step - loss: 16.4384 - mae: 16.9281\n",
            "Epoch 49/50\n",
            "30/30 [==============================] - 1s 35ms/step - loss: 16.2760 - mae: 16.7652\n",
            "Epoch 50/50\n",
            "30/30 [==============================] - 1s 34ms/step - loss: 16.4098 - mae: 16.8994\n"
          ],
          "name": "stdout"
        }
      ]
    },
    {
      "cell_type": "markdown",
      "metadata": {
        "id": "PB7ELOC7qdvc",
        "colab_type": "text"
      },
      "source": [
        "**Forecasting with Model**\n"
      ]
    },
    {
      "cell_type": "code",
      "metadata": {
        "id": "VGA0M4DEoY7p",
        "colab_type": "code",
        "colab": {
          "base_uri": "https://localhost:8080/",
          "height": 388
        },
        "outputId": "48cd66b2-e960-43ca-df61-8eef96e2fe83"
      },
      "source": [
        "# Forecasting with model\n",
        "forecast = model_forecast(model, series[..., np.newaxis], window_size)\n",
        "forecast = forecast[split - window_size:-1, -1, 0]\n",
        "\n",
        "# Plotting the Forecasting\n",
        "plt.figure(figsize=(10, 6))\n",
        "plot_series(valid_time, X_valid)\n",
        "plot_series(valid_time, forecast)"
      ],
      "execution_count": 22,
      "outputs": [
        {
          "output_type": "display_data",
          "data": {
            "image/png": "[encoded data removed]",
            "text/plain": [
              "<Figure size 720x432 with 1 Axes>"
            ]
          },
          "metadata": {
            "tags": [],
            "needs_background": "light"
          }
        }
      ]
    },
    {
      "cell_type": "code",
      "metadata": {
        "id": "tqWJE_frrpPP",
        "colab_type": "code",
        "colab": {
          "base_uri": "https://localhost:8080/",
          "height": 34
        },
        "outputId": "e6bb6081-0a19-40e3-d918-690bc51a2bf7"
      },
      "source": [
        "# Calculating the mean squared error\n",
        "tf.keras.metrics.mean_absolute_error(X_valid, forecast).numpy()"
      ],
      "execution_count": 23,
      "outputs": [
        {
          "output_type": "execute_result",
          "data": {
            "text/plain": [
              "14.106373"
            ]
          },
          "metadata": {
            "tags": []
          },
          "execution_count": 23
        }
      ]
    },
    {
      "cell_type": "markdown",
      "metadata": {
        "id": "lms5l9k0sswS",
        "colab_type": "text"
      },
      "source": [
        "**Observing the Model**\n"
      ]
    },
    {
      "cell_type": "code",
      "metadata": {
        "id": "VawSur0JsYpv",
        "colab_type": "code",
        "colab": {
          "base_uri": "https://localhost:8080/",
          "height": 329
        },
        "outputId": "676ffe0c-eef6-4437-a36f-46ea37c79d9d"
      },
      "source": [
        "# Retrieving the list of results\n",
        "loss = history.history[\"loss\"]\n",
        "epochs = range(len(loss))\n",
        "\n",
        "# Plotting Training and Validation loss per epoch\n",
        "plt.plot(epochs, loss, \"r\")\n",
        "plt.title(\"Training Loss\")\n",
        "plt.xlabel(\"Epochs\")\n",
        "plt.ylabel(\"Loss\")\n",
        "plt.legend([\"Loss\"])\n",
        "plt.figure()"
      ],
      "execution_count": 25,
      "outputs": [
        {
          "output_type": "execute_result",
          "data": {
            "text/plain": [
              "<Figure size 432x288 with 0 Axes>"
            ]
          },
          "metadata": {
            "tags": []
          },
          "execution_count": 25
        },
        {
          "output_type": "display_data",
          "data": {
            "image/png": "[encoded data removed]",
            "text/plain": [
              "<Figure size 432x288 with 1 Axes>"
            ]
          },
          "metadata": {
            "tags": [],
            "needs_background": "light"
          }
        },
        {
          "output_type": "display_data",
          "data": {
            "text/plain": [
              "<Figure size 432x288 with 0 Axes>"
            ]
          },
          "metadata": {
            "tags": []
          }
        }
      ]
    }
  ]
}